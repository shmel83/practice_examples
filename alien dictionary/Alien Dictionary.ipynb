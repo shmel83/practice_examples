{
 "cells": [
  {
   "cell_type": "markdown",
   "metadata": {},
   "source": [
    "<font color=blue size=4> __Given a sorted dictionary (array of words) of an alien language, find order of characters in the language.__</font>\n",
    "\n",
    "input:  words = [\"baa\", \"abcd\", \"abca\", \"cab\", \"cad\"]\n",
    "Output: Order of characters is 'b', 'd', 'a', 'c'\n",
    "Note that words are sorted and in the given language \"baa\" \n",
    "comes before \"abcd\", therefore 'b' is before 'a' in output.\n",
    "Similarly we can find other orders.\n",
    "\n",
    "Input:  words = [\"caa\", \"aaa\", \"aab\"]\n",
    "Output: Order of characters is 'c', 'a', 'b'"
   ]
  },
  {
   "cell_type": "code",
   "execution_count": 93,
   "metadata": {},
   "outputs": [],
   "source": [
    "class find_alien_dictionary():\n",
    "    \n",
    "    def __init__(self, words=[]):\n",
    "        \n",
    "        self.Ord = []\n",
    "        self.words = words\n",
    "        self.letter_graph = {l: [] for l in list(set(\"\".join(self.words)))}\n",
    "    \n",
    "\n",
    "    def find_adj_pairs(self):\n",
    "        \"\"\"Finding the letter graph using adjascent letters:\"\"\"\n",
    "        \n",
    "        # Iterate over pairs of adjascent words\n",
    "        for i in range(len(self.words)-1):\n",
    "            common_length = min(len(self.words[i]), len(self.words[i+1]))\n",
    "        # find first pair of different letters, add it to graph\n",
    "            for j in range(common_length):\n",
    "                l1,l2 = self.words[i][j], self.words[i+1][j]\n",
    "                if l1 != l2:\n",
    "                    self.letter_graph[l1].append(l2)\n",
    "                    break\n",
    "        return self.letter_graph\n",
    "    \n",
    "\n",
    "    def top_sort(self):\n",
    "        \"\"\"Topological sorting using the graph found at the first step\"\"\"\n",
    "        \n",
    "        # first, compute incoming degree of each node:\n",
    "        degree = { u : 0 for u in self.letter_graph }\n",
    "        for u in self.letter_graph:                          \n",
    "            for v in self.letter_graph[u]:\n",
    "                degree[v] += 1\n",
    "\n",
    "        # Define empty queue:\n",
    "        Que = []\n",
    "        \n",
    "        # Put into queue all nodes with zero degree\n",
    "        # (nothing comes in)\n",
    "        for u in degree:\n",
    "            if degree[u] == 0:\n",
    "                Que.append(u)\n",
    "\n",
    "        # Start de-queuing:\n",
    "        \n",
    "        while Que:\n",
    "            # taking one element from queue, adding to the end of order\n",
    "            # and subtracting it from all associated\n",
    "            # nodes' degrees\n",
    "            u = Que.pop()\n",
    "            self.Ord.append(u)\n",
    "\n",
    "\n",
    "            for v in self.letter_graph[u]:\n",
    "                degree[v] -= 1\n",
    "                if degree[v] == 0:\n",
    "                    Que.append(v)\n",
    "    \n",
    "    def run(self):\n",
    "        \n",
    "        self.find_adj_pairs()\n",
    "        \n",
    "        self.top_sort()\n",
    "        \n",
    "        print self.Ord\n",
    "        "
   ]
  },
  {
   "cell_type": "code",
   "execution_count": 99,
   "metadata": {},
   "outputs": [
    {
     "name": "stdout",
     "output_type": "stream",
     "text": [
      "['b', 'd', 'a', 'c']\n"
     ]
    }
   ],
   "source": [
    "words  = [\"baa\", \"abcd\", \"abca\", \"cab\", \"cad\"]\n",
    "find_alien_dictionary(words).run()"
   ]
  },
  {
   "cell_type": "code",
   "execution_count": 100,
   "metadata": {},
   "outputs": [
    {
     "name": "stdout",
     "output_type": "stream",
     "text": [
      "['c', 'a', 'b']\n"
     ]
    }
   ],
   "source": [
    "words = [\"caa\", \"aaa\", \"aab\"]\n",
    "find_alien_dictionary(words).run()"
   ]
  }
 ],
 "metadata": {
  "kernelspec": {
   "display_name": "Python 2",
   "language": "python",
   "name": "python2"
  },
  "language_info": {
   "codemirror_mode": {
    "name": "ipython",
    "version": 2
   },
   "file_extension": ".py",
   "mimetype": "text/x-python",
   "name": "python",
   "nbconvert_exporter": "python",
   "pygments_lexer": "ipython2",
   "version": "2.7.15rc1"
  }
 },
 "nbformat": 4,
 "nbformat_minor": 2
}
